{
  "nbformat": 4,
  "nbformat_minor": 0,
  "metadata": {
    "colab": {
      "provenance": [],
      "include_colab_link": true
    },
    "kernelspec": {
      "name": "python3",
      "display_name": "Python 3"
    },
    "language_info": {
      "name": "python"
    }
  },
  "cells": [
    {
      "cell_type": "markdown",
      "metadata": {
        "id": "view-in-github",
        "colab_type": "text"
      },
      "source": [
        "<a href=\"https://colab.research.google.com/github/DileepKumarIrri/gitdemo1/blob/main/ML2PCA.ipynb\" target=\"_parent\"><img src=\"https://colab.research.google.com/assets/colab-badge.svg\" alt=\"Open In Colab\"/></a>"
      ]
    },
    {
      "cell_type": "code",
      "execution_count": null,
      "metadata": {
        "colab": {
          "base_uri": "https://localhost:8080/"
        },
        "id": "mSlQMb89bP3P",
        "outputId": "80cbaa51-b895-435d-c861-50f3dd3eec47"
      },
      "outputs": [
        {
          "output_type": "stream",
          "name": "stdout",
          "text": [
            "     sepal length (cm)  sepal width (cm)  petal length (cm)  petal width (cm)\n",
            "0                  5.1               3.5                1.4               0.2\n",
            "1                  4.9               3.0                1.4               0.2\n",
            "2                  4.7               3.2                1.3               0.2\n",
            "3                  4.6               3.1                1.5               0.2\n",
            "4                  5.0               3.6                1.4               0.2\n",
            "..                 ...               ...                ...               ...\n",
            "145                6.7               3.0                5.2               2.3\n",
            "146                6.3               2.5                5.0               1.9\n",
            "147                6.5               3.0                5.2               2.0\n",
            "148                6.2               3.4                5.4               2.3\n",
            "149                5.9               3.0                5.1               1.8\n",
            "\n",
            "[150 rows x 4 columns]\n"
          ]
        }
      ],
      "source": [
        "import pandas as pd\n",
        "import numpy as np\n",
        "\n",
        "from sklearn.datasets import load_iris\n",
        "\n",
        "data = load_iris(as_frame = True)\n",
        "df = data.frame\n",
        "\n",
        "X = df[data['feature_names']]\n",
        "print(X)"
      ]
    },
    {
      "cell_type": "code",
      "source": [
        "X_mean = X.mean()\n",
        "X_std = X.std()\n",
        "Z = (X-X_mean)/X_std\n",
        "c = Z.cov()\n",
        "\n",
        "eigval, eigvec = np.linalg.eig(c)\n",
        "\n",
        "print(eigval)\n",
        "print(eigvec)"
      ],
      "metadata": {
        "colab": {
          "base_uri": "https://localhost:8080/"
        },
        "id": "qEyhTdq5ccHO",
        "outputId": "ae42dc3e-bf2a-435a-b785-e3d50b3c2431"
      },
      "execution_count": null,
      "outputs": [
        {
          "output_type": "stream",
          "name": "stdout",
          "text": [
            "[2.91849782 0.91403047 0.14675688 0.02071484]\n",
            "[[ 0.52106591 -0.37741762 -0.71956635  0.26128628]\n",
            " [-0.26934744 -0.92329566  0.24438178 -0.12350962]\n",
            " [ 0.5804131  -0.02449161  0.14212637 -0.80144925]\n",
            " [ 0.56485654 -0.06694199  0.63427274  0.52359713]]\n"
          ]
        }
      ]
    },
    {
      "cell_type": "code",
      "source": [
        "explained_var = np.cumsum(eigval) / np.sum(eigval)\n",
        "print(explained_var)"
      ],
      "metadata": {
        "colab": {
          "base_uri": "https://localhost:8080/"
        },
        "id": "UD_s-P-Qglic",
        "outputId": "c5fd379d-424b-4a5e-cf64-8915685837b1"
      },
      "execution_count": null,
      "outputs": [
        {
          "output_type": "stream",
          "name": "stdout",
          "text": [
            "[0.72962445 0.95813207 0.99482129 1.        ]\n"
          ]
        }
      ]
    },
    {
      "cell_type": "code",
      "source": [
        "n_components = np.argmax(explained_var >= 0.50)+1\n",
        "print(n_components)"
      ],
      "metadata": {
        "colab": {
          "base_uri": "https://localhost:8080/"
        },
        "id": "gJMo9yZ4NgP5",
        "outputId": "6a64b4df-483c-410c-ba03-0980f184c313"
      },
      "execution_count": null,
      "outputs": [
        {
          "output_type": "stream",
          "name": "stdout",
          "text": [
            "1\n"
          ]
        }
      ]
    },
    {
      "cell_type": "code",
      "source": [
        "u = eigvec[:,:n_components]\n",
        "print(u)\n",
        "pca_component = pd.DataFrame(u,\n",
        "                             index = data['feature_names'],\n",
        "                             columns = ['PC1']\n",
        "                            )\n",
        "print(pca_component)"
      ],
      "metadata": {
        "colab": {
          "base_uri": "https://localhost:8080/"
        },
        "id": "DFQ5kWV5NpBx",
        "outputId": "b4473119-ab1b-446e-c8af-700f34269f76"
      },
      "execution_count": null,
      "outputs": [
        {
          "output_type": "stream",
          "name": "stdout",
          "text": [
            "[[ 0.52106591]\n",
            " [-0.26934744]\n",
            " [ 0.5804131 ]\n",
            " [ 0.56485654]]\n",
            "                        PC1\n",
            "sepal length (cm)  0.521066\n",
            "sepal width (cm)  -0.269347\n",
            "petal length (cm)  0.580413\n",
            "petal width (cm)   0.564857\n"
          ]
        }
      ]
    },
    {
      "cell_type": "code",
      "source": [
        "Z_pca = Z @ pca_component\n",
        "print(Z_pca)"
      ],
      "metadata": {
        "colab": {
          "base_uri": "https://localhost:8080/"
        },
        "id": "Mc75jFMaOAi_",
        "outputId": "0ac7d485-72b9-4ebf-be99-282d571b0ddb"
      },
      "execution_count": null,
      "outputs": [
        {
          "output_type": "stream",
          "name": "stdout",
          "text": [
            "          PC1\n",
            "0   -2.257141\n",
            "1   -2.074013\n",
            "2   -2.356335\n",
            "3   -2.291707\n",
            "4   -2.381863\n",
            "..        ...\n",
            "145  1.864258\n",
            "146  1.559356\n",
            "147  1.516091\n",
            "148  1.368204\n",
            "149  0.957448\n",
            "\n",
            "[150 rows x 1 columns]\n"
          ]
        }
      ]
    },
    {
      "cell_type": "code",
      "source": [
        "from sklearn.decomposition import PCA\n",
        "\n",
        "pca = PCA(n_components=1)\n",
        "pca.fit(Z)\n",
        "x_pca = pca.transform(Z)\n",
        "\n",
        "df_pca1 = pd.DataFrame(x_pca,\n",
        "                       columns=['PC{}'.\n",
        "                       format(i+1)\n",
        "                        for i in range(n_components)])\n",
        "print(df_pca1)"
      ],
      "metadata": {
        "id": "3lYFNmo0Pj8w",
        "outputId": "bb44ea52-3baf-49af-b174-c4c6f8ded7b4",
        "colab": {
          "base_uri": "https://localhost:8080/"
        }
      },
      "execution_count": null,
      "outputs": [
        {
          "output_type": "stream",
          "name": "stdout",
          "text": [
            "          PC1\n",
            "0   -2.257141\n",
            "1   -2.074013\n",
            "2   -2.356335\n",
            "3   -2.291707\n",
            "4   -2.381863\n",
            "..        ...\n",
            "145  1.864258\n",
            "146  1.559356\n",
            "147  1.516091\n",
            "148  1.368204\n",
            "149  0.957448\n",
            "\n",
            "[150 rows x 1 columns]\n"
          ]
        }
      ]
    }
  ]
}